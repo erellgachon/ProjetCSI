{
 "cells": [
  {
   "cell_type": "code",
   "execution_count": 148,
   "metadata": {},
   "outputs": [],
   "source": [
    "from tools import *"
   ]
  },
  {
   "cell_type": "markdown",
   "metadata": {},
   "source": [
    "# Chiffrement TLWE"
   ]
  },
  {
   "cell_type": "code",
   "execution_count": 80,
   "metadata": {},
   "outputs": [],
   "source": [
    "def TLWEncrypt(p,q,n,s,sigma,m):\n",
    "    a=[]\n",
    "    for i in range(n):\n",
    "        a.append(randint(0,q-1))\n",
    "    e = RealDistribution(\"gaussian\",sigma).get_random_element()\n",
    "    e = round(q*e)\n",
    "    while(abs(e/q)>=1/(2*p)):\n",
    "        e = RealDistribution(\"gaussian\",sigma).get_random_element()\n",
    "        e = round(q*e)\n",
    "    #print(\"e= \",e)\n",
    "    c = AddInTore(q,m*q/p,e)\n",
    "    for i in range(n):\n",
    "        c = AddInTore(q,c,MultExtTore(q,s[i],a[i]))\n",
    "    return a+[c]"
   ]
  },
  {
   "cell_type": "code",
   "execution_count": 81,
   "metadata": {},
   "outputs": [],
   "source": [
    "def TLWEDecrypt(p,q,n,s,c):\n",
    "    a = c[:-1]\n",
    "    m = c[-1]\n",
    "    for i in range(n):\n",
    "        m = AddInTore(q,m,MultExtTore(q,-s[i],a[i]))\n",
    "    return round(m*p/q)%p"
   ]
  },
  {
   "cell_type": "code",
   "execution_count": 6,
   "metadata": {},
   "outputs": [
    {
     "name": "stdout",
     "output_type": "stream",
     "text": [
      "1000\n"
     ]
    }
   ],
   "source": [
    "p = 2\n",
    "q = 2**32\n",
    "n = 1000\n",
    "s = [randint(0,1) for i in range(n)]\n",
    "sigma = 2**(-7)\n",
    "\n",
    "cpt = 0\n",
    "for i in range(1000):\n",
    "    \n",
    "    m = randint(0,p-1)\n",
    "\n",
    "\n",
    "    c = TLWEncrypt(p, q, n, s, sigma, m)\n",
    "\n",
    "    mmaybe = TLWEDecrypt(p, q, n, s, c)\n",
    "    if(m==mmaybe):\n",
    "        cpt = cpt +1\n",
    "print(cpt)        "
   ]
  },
  {
   "cell_type": "markdown",
   "metadata": {},
   "source": [
    "## Addition de chiffrés et mutliplication par une constante"
   ]
  },
  {
   "cell_type": "code",
   "execution_count": 82,
   "metadata": {},
   "outputs": [],
   "source": [
    "def AddCiph(q,n,c1,c2):\n",
    "    return [AddInTore(q,c1[i],c2[i]) for i in range(n+1)]"
   ]
  },
  {
   "cell_type": "code",
   "execution_count": 83,
   "metadata": {},
   "outputs": [],
   "source": [
    "def MultCiph(q,n,K,c):\n",
    "    return [MultExtTore(q,K,c[i]) for i in range(n+1)]"
   ]
  },
  {
   "cell_type": "markdown",
   "metadata": {},
   "source": [
    "Test : $TLWE_s(m_1) + TLWE_s(m_2) = TLWE_s(m_1+m_2)$"
   ]
  },
  {
   "cell_type": "code",
   "execution_count": 9,
   "metadata": {},
   "outputs": [
    {
     "name": "stdout",
     "output_type": "stream",
     "text": [
      "85\n"
     ]
    }
   ],
   "source": [
    "p = 2**9\n",
    "q = 2**16\n",
    "n = 1000\n",
    "s = [randint(0,1) for i in range(n)]\n",
    "sigma = 2**(-7)\n",
    "\n",
    "cpt1 = 0\n",
    "cpt2 = 0\n",
    "for i in range(100):\n",
    "    \n",
    "    m1 = randint(0,p-1)\n",
    "    m2 = randint(0,p-1)\n",
    "\n",
    "    c1 = TLWEncrypt(p, q, n, s, sigma, m1)\n",
    "    c2 = TLWEncrypt(p, q, n, s, sigma, m2)\n",
    "\n",
    "    m = TLWEDecrypt(p, q, n, s, AddCiph(q,n,c1,c2))\n",
    "    if(m==AddInTore(p,m1,m2)):\n",
    "        cpt1 = cpt1 +1\n",
    "print(cpt1)"
   ]
  },
  {
   "cell_type": "markdown",
   "metadata": {},
   "source": [
    "Test : $TLWE_s(m) \\cdot K = TLWE_s(m \\cdot K)$"
   ]
  },
  {
   "cell_type": "code",
   "execution_count": 10,
   "metadata": {},
   "outputs": [
    {
     "name": "stdout",
     "output_type": "stream",
     "text": [
      "62\n"
     ]
    }
   ],
   "source": [
    "p = 2\n",
    "q = 2**32\n",
    "n = 1000\n",
    "s = [randint(0,1) for i in range(n)]\n",
    "sigma = 2**(-7)\n",
    "\n",
    "cpt1 = 0\n",
    "cpt2 = 0\n",
    "for i in range(100):\n",
    "    \n",
    "    m = randint(0,p-1)\n",
    "\n",
    "    c = TLWEncrypt(p, q, n, s, sigma, m)\n",
    "    \n",
    "    K = randint(1,100)\n",
    "    mmaybe = TLWEDecrypt(p, q, n, s, MultCiph(q,n,K,c))\n",
    "    \n",
    "    if(mmaybe==MultExtTore(p,K,m)):\n",
    "        cpt1 +=1\n",
    "print(cpt1)"
   ]
  },
  {
   "cell_type": "markdown",
   "metadata": {},
   "source": [
    "## Multiplication de chiffrés : Gadget Matrix"
   ]
  },
  {
   "cell_type": "code",
   "execution_count": 84,
   "metadata": {},
   "outputs": [],
   "source": [
    "def TrueGadgetMatrix(q,B,l,n):\n",
    "    G = [[0 for i in range(n+1)] for j in range((n+1)*l)]\n",
    "    for i in range(n+1):\n",
    "        for j in range(0,l):\n",
    "            G[j+l*i][i] = 1/(B^(j+1))\n",
    "    return G\n",
    "#G is the real gadget matrix"
   ]
  },
  {
   "cell_type": "code",
   "execution_count": 85,
   "metadata": {},
   "outputs": [],
   "source": [
    "def UsedGadgetMatrix(q,B,l,n):\n",
    "    G = [[0 for i in range(n+1)] for j in range((n+1)*l)]\n",
    "    for i in range(n+1):\n",
    "        for j in range(0,l):\n",
    "            G[j+l*i][i] = q/(B^(j+1))\n",
    "    return G\n",
    "#G is the gadhet matrix of the numerator of the real gadget matrix with q for denominator"
   ]
  },
  {
   "cell_type": "code",
   "execution_count": 86,
   "metadata": {},
   "outputs": [],
   "source": [
    "def InvGVect(q,B,l,n,v):\n",
    "    for i in range(len(v)) :\n",
    "        if v[i]> q/2 :\n",
    "            v[i] = v[i]-q\n",
    "    vbar = [round(B**l*v[i]/q) for i in range(len(v))]\n",
    "    u=[]\n",
    "    for i in range(len(v)) :\n",
    "        tmp = (vbar[i]).digits(B)\n",
    "        while (len(tmp)!=l+1) :\n",
    "            tmp.append(0)\n",
    "        for j in range(len(tmp)-1) :\n",
    "            if tmp[j]>= ceil(B/2) :\n",
    "                tmp[j] = tmp[j]-B\n",
    "                tmp[j+1] = tmp[j+1]+1\n",
    "        tmp.reverse()\n",
    "        u = u+(tmp[1:])\n",
    "    return [u]"
   ]
  },
  {
   "cell_type": "code",
   "execution_count": 87,
   "metadata": {},
   "outputs": [],
   "source": [
    "def InvGMatr(q,B,l,n,M) :\n",
    "    return [InvGVect(q,B,l,n,M[i]) for i in range(len(M))]"
   ]
  },
  {
   "cell_type": "markdown",
   "metadata": {},
   "source": [
    "Test : $g^{-1}(v) \\cdot G^T = v$ ?"
   ]
  },
  {
   "cell_type": "code",
   "execution_count": 88,
   "metadata": {},
   "outputs": [
    {
     "name": "stdout",
     "output_type": "stream",
     "text": [
      "[[-1, -1, -3, -2, -1, -2]]\n"
     ]
    },
    {
     "data": {
      "text/plain": [
       "[[41, 26]]"
      ]
     },
     "execution_count": 88,
     "metadata": {},
     "output_type": "execute_result"
    }
   ],
   "source": [
    "g = InvGVect(64,4,3,1,[41,26])\n",
    "print(g)\n",
    "G = UsedGadgetMatrix(64,4,3,1)\n",
    "MultInMatr(64,g,G)"
   ]
  },
  {
   "cell_type": "markdown",
   "metadata": {},
   "source": [
    "## Multiplication de chiffrés : chiffrement TGSW"
   ]
  },
  {
   "cell_type": "code",
   "execution_count": 89,
   "metadata": {},
   "outputs": [],
   "source": [
    "def TGSWEncrypt(q,B,l,n,m,s):\n",
    "    sigma = 0.001\n",
    "    Z = [TLWEncrypt(B**l,q,n,s,sigma,0) for i in range(n+1)]\n",
    "    return AddInMatr(q,Z,MultExtMatr(q,m,UsedGadgetMatrix(q,B,l,n)))"
   ]
  },
  {
   "cell_type": "code",
   "execution_count": 90,
   "metadata": {},
   "outputs": [],
   "source": [
    "#c1 et c2 are GSW ciphertexts\n",
    "def MultInGSW(q,B,l,n,c1,c2) :\n",
    "    return MultInMatr(q,InvGMatr(q,B,l,n,c1),c2)"
   ]
  },
  {
   "cell_type": "code",
   "execution_count": 91,
   "metadata": {},
   "outputs": [],
   "source": [
    "#c1 is TGSW ciphertext\n",
    "#c2 is TLWE ciphertext\n",
    "def MultExtCiphLWE(q,B,l,n,c1,c2) :\n",
    "    return MultInMatr(q,InvGVect(q,B,l,n,c2),c1)"
   ]
  },
  {
   "cell_type": "code",
   "execution_count": 19,
   "metadata": {},
   "outputs": [
    {
     "name": "stdout",
     "output_type": "stream",
     "text": [
      "1\n"
     ]
    }
   ],
   "source": [
    "k = 3\n",
    "m = 5\n",
    "q = 64\n",
    "B = 4\n",
    "l = 2\n",
    "p = B**l\n",
    "n = 500\n",
    "sigma = 2**(-10)\n",
    "cpt=0\n",
    "for j in range(10) :\n",
    "    s = [randint(0,1) for i in range(n)]\n",
    "    cm = TLWEncrypt(p,q,n,s,sigma,m)\n",
    "\n",
    "    ck = TGSWEncrypt(q,B,l,n,m,s)\n",
    "    c = MultExtCiphLWE(q,B,l,n,ck,cm)[0]\n",
    "    if(TLWEDecrypt(p,q,n,s,c)==MultExtTore(p,k,m)) :\n",
    "        cpt+=1\n",
    "print(cpt)\n"
   ]
  },
  {
   "cell_type": "markdown",
   "metadata": {},
   "source": [
    "# Chiffrement TGLWE"
   ]
  },
  {
   "cell_type": "code",
   "execution_count": 92,
   "metadata": {},
   "outputs": [],
   "source": [
    "#G^{-1} sur les polynômes\n",
    "#vX a vector of poly in TQ_N[X]\n",
    "def InvGVectPoly(q,B,l,N,vX) :\n",
    "    result = []\n",
    "    for poly in vX :\n",
    "        for i in range(len(poly)):\n",
    "            if poly[i] > q/2 :\n",
    "                poly[i] = poly[i]-q\n",
    "        polybar = [round(B**l*poly[i]/q) for i in range(len(poly))]\n",
    "        u = [[0]*(N) for _ in range(l)]\n",
    "        for i in range(len(poly)) :\n",
    "            tmp = polybar[i].digits(B)\n",
    "            while (len(tmp)!= l+1) :\n",
    "                tmp.append(0)\n",
    "            for j in range(len(tmp)-1) :\n",
    "                if tmp[j] >= ceil(B/2) :\n",
    "                    tmp[j+1]=tmp[j+1]+1\n",
    "            tmp.reverse()\n",
    "            tmp = tmp[1:]\n",
    "            for index in range(len(tmp)) :\n",
    "                u[index][i] = u[index][i]+tmp[index]\n",
    "        result += u\n",
    "    return [result]"
   ]
  },
  {
   "cell_type": "code",
   "execution_count": 93,
   "metadata": {},
   "outputs": [],
   "source": [
    "def InvGMatrPoly(q,B,l,N,M) :\n",
    "    return [InvGVectPoly(q,B,l,N,M[i]) for i in range(len(M))]"
   ]
  },
  {
   "cell_type": "code",
   "execution_count": 94,
   "metadata": {},
   "outputs": [],
   "source": [
    "def TGLWEncrypt(p,q,N,k,s,sigma,m) :\n",
    "    a = []\n",
    "    for i in range(k) :\n",
    "        a.append([randint(0,q-1) for j in range(N)])\n",
    "    e = [RealDistribution(\"gaussian\",sigma).get_random_element() for i in range(N)]\n",
    "    e = [round(q*e[i]) for i in range(N)]\n",
    "    M = [m[i]*q/p for i in range(N)]\n",
    "    c = AddPolyInTore(q,N,M,e)\n",
    "    for i in range(k):\n",
    "        c = AddPolyInTore(q,N,c,MultPolyExt(q,N,s[i],a[i]))\n",
    "    return a+[c]"
   ]
  },
  {
   "cell_type": "code",
   "execution_count": 120,
   "metadata": {},
   "outputs": [],
   "source": [
    "def TGLWEDecrypt(p,q,N,k,s,c) :\n",
    "    tmp = [0]*N\n",
    "    for i in range(k) :\n",
    "        tmp = AddPolyInTore(q,N,tmp,MultPolyExt(q,N,[-(s[i][j]) for j in range(len(s[i]))],c[i]))\n",
    "    tmp = AddPolyInTore(q,N,tmp,c[len(c)-1])\n",
    "    result = []\n",
    "    for i in range(len(tmp)) :\n",
    "        result.append(round(tmp[i]*p/q)%p)\n",
    "    return result"
   ]
  },
  {
   "cell_type": "code",
   "execution_count": 121,
   "metadata": {},
   "outputs": [],
   "source": [
    "#C1 a TGGSW ciphertext (matrix)\n",
    "#c2 a TGLWE ciphertext (vector)\n",
    "def MultExtTGLWE(q,N,B,l,C1,c2) :\n",
    "    return MultMatPoly(q,N,InvGVectPoly(q,B,l,N,c2),C1)"
   ]
  },
  {
   "cell_type": "markdown",
   "metadata": {},
   "source": [
    "### Chiffrement TGGSW"
   ]
  },
  {
   "cell_type": "code",
   "execution_count": 165,
   "metadata": {},
   "outputs": [],
   "source": [
    "def TGGSWEncrypt(p,q,B,l,N,k,sigma,s,m):\n",
    "    Z = [TGLWEncrypt(p,q,N,k,s,sigma,[0]*N) for _ in range((k+1)*l)]\n",
    "    return AddInMatrPoly(q,N,Z,MultExtMatrPoly(q,N,m,UsedGadgetMatrixPoly(q,B,l,k,N)))"
   ]
  },
  {
   "cell_type": "code",
   "execution_count": 166,
   "metadata": {},
   "outputs": [],
   "source": [
    "def MultExtMatrPoly(q,N,K,M):\n",
    "    return [[MultPolyExt(q,N,K,M[i][j]) for j in range(len(M[0]))] for i in range(len(M))]"
   ]
  },
  {
   "cell_type": "code",
   "execution_count": 169,
   "metadata": {
    "scrolled": true
   },
   "outputs": [
    {
     "name": "stdout",
     "output_type": "stream",
     "text": [
      "[1, 5]\n",
      "[6, 7]\n"
     ]
    }
   ],
   "source": [
    "q =64\n",
    "p = 16\n",
    "B = 4\n",
    "l = 2\n",
    "k = 2\n",
    "N = 2\n",
    "m1 = [1,2]\n",
    "m2 = [2,1]\n",
    "M = MultPolyExt(p,N,m1,m2)\n",
    "print(M)\n",
    "sigma = 0.001\n",
    "s = [[0,1],[1,0],[0,0]]\n",
    "C1 = TGGSWEncrypt(p,q,B,l,N,k,sigma,s,m1)\n",
    "c2 = TGLWEncrypt(p,q,N,k,s,sigma,m2)\n",
    "c = MultExtTGLWE(q,N,B,l,C1,c2)[0]\n",
    "mmaybe = TGLWEDecrypt(p,q,N,k,s,c)\n",
    "print(mmaybe)"
   ]
  },
  {
   "cell_type": "markdown",
   "metadata": {},
   "source": [
    "# Bootstrapping"
   ]
  },
  {
   "cell_type": "code",
   "execution_count": 124,
   "metadata": {},
   "outputs": [],
   "source": [
    "def UsedGadgetMatrixPoly(q,B,l,k,N):\n",
    "    G = [[[0]*N for i in range(k+1)] for j in range((k+1)*l)]\n",
    "    for i in range(k+1):\n",
    "        for j in range(0,l):\n",
    "            G[j+l*i][i][0] = q/(B^(j+1))\n",
    "    return G"
   ]
  },
  {
   "cell_type": "code",
   "execution_count": 125,
   "metadata": {},
   "outputs": [
    {
     "name": "stdout",
     "output_type": "stream",
     "text": [
      "[[[1, 1], [3, 2], [2, 3], [0, 1], [-1, 2], [-2, 1]]]\n"
     ]
    },
    {
     "data": {
      "text/plain": [
       "[[[123, 111], [236, 103]]]"
      ]
     },
     "execution_count": 125,
     "metadata": {},
     "output_type": "execute_result"
    }
   ],
   "source": [
    "k = 1\n",
    "N = 2\n",
    "l = 3\n",
    "B = 4\n",
    "q = 256\n",
    "vX = [[41,26],[231,35]]\n",
    "g = InvGVectPoly(q,B,l,N,vX)\n",
    "print(g)\n",
    "G = UsedGadgetMatrixPoly(q,B,l,k,N)\n",
    "MultMatPoly(q,N,g,G)"
   ]
  },
  {
   "cell_type": "code",
   "execution_count": 131,
   "metadata": {},
   "outputs": [],
   "source": [
    "#Cb TGGSW ciphertext\n",
    "# c0,c1 TGLWE ciphertext\n",
    "def CMUX(q,N,Cb,c0,c1) : \n",
    "    tmp = [AddPolyInTore(q,N,c1[i],[-c0[i][ind] for ind in range(len(c0[i]))]) for i in range(len(c0))]\n",
    "    tmp2 = MultExtTGLWE(q,N,B,l,Cb,tmp)[0]\n",
    "    return [AddPolyInTore(q,N,tmp2[i],c0[i]) for i in range(len(c0))]"
   ]
  },
  {
   "cell_type": "code",
   "execution_count": 127,
   "metadata": {},
   "outputs": [],
   "source": [
    "def loadKeys(p,q,B,l,N,k,s) :\n",
    "    S = [[randint(0,1) for _ in range(N)] for _ in range(k)]\n",
    "    Sprime = []\n",
    "    for si in S :\n",
    "        Sprime += si\n",
    "    bs = [TGGSWEncrypt(p,q,B,l,N,k,S, [s[i]] + [0]*(N-1)) for i in range(n)]\n",
    "    ks = [[_ for j in range(l)] for i in range(k*N)]\n",
    "\n",
    "    for i in range(k*N) :\n",
    "        for j in range(l) :\n",
    "            ks[i][j] = TLWEncrypt(p,q,n,s,sigma,MultExtTore(p,Sprime[i],p/(B**j)))\n",
    "    return bs,ks"
   ]
  },
  {
   "cell_type": "code",
   "execution_count": 128,
   "metadata": {},
   "outputs": [],
   "source": [
    "p = 16\n",
    "q = 64\n",
    "l = 2\n",
    "B = 4\n",
    "n = 5\n",
    "k = 5\n",
    "sigma = 0.1\n",
    "N = 128\n",
    "\n",
    "s = [1,1,0,1,0]\n",
    "\n",
    "bs,ks = loadKeys(p,q,B,l,N,k,s)"
   ]
  },
  {
   "cell_type": "code",
   "execution_count": 129,
   "metadata": {},
   "outputs": [],
   "source": [
    "# c is a TLWE ciphertext : in TQ^{n+1}\n",
    "# bs = TGGSW_S(s_i)\n",
    "# ks in TQ^{n+1}\n",
    "def bootstrapping(p,q,B,l,n,k,N,c,bs,ks) :\n",
    "    V = [round(p*i/(2*N)) % p for i in range(N)]\n",
    "    a_tilde = [round(c[i]*2*N/q) % (2*N) for i in range(n)]\n",
    "    x_tilde = round(c[n]*2*N/q) % (2*N)\n",
    "    for i in range(n) :\n",
    "        if (-x_tilde % (2*N) >= N) :\n",
    "            return \"Fail\"\n",
    "    print(a_tilde,x_tilde)\n",
    "    tmp = [0]*(N)\n",
    "    tmp[-x_tilde % (2*N)] = 1 # tmp = X^{-x_tilde}\n",
    "    Q = [[[0]*N for i in range(k)] + [MultPolyExt(q,N,tmp,V)]]\n",
    "    for i in range(1,n+1):\n",
    "        tmp = [0]*N # tmp = X^{a_tilde[i]}\n",
    "        if (a_tilde[i-1]  % (2*N) < N) :\n",
    "            tmp[a_tilde[i-1] % 2*N] = 1\n",
    "        else :\n",
    "            tmp[a_tilde[i-1] % N] = - 1 \n",
    "        Q.append(CMUX(q,N,bs[i-1],Q[i-1],[MultPolyExt(q,N,tmp,Q[i-1][ind]) for ind in range(len(Q[i-1]))]))\n",
    "    C = Q[n]\n",
    "    Cprime = []\n",
    "    for i in range(k) :\n",
    "        Cprime += [C[i][0]]\n",
    "        for j in range(N-1,0,-1) :\n",
    "            Cprime += [-C[i][j]]\n",
    "    \n",
    "    tmp = [0]*(n+1)\n",
    "    for i in range(k*N) :\n",
    "        for j in range(l) : \n",
    "            tmp2 = [MultExtTore(q,InvGVect(q,B,l,n,[Cprime[i]])[0][j],-ks[i][j][index]) for index in range(n+1)]\n",
    "            tmp = [AddInTore(q,tmp[index],tmp2[index]) for index in range(n+1)]\n",
    "    return [AddInTore(q,tmp[index],([0]*(n) + [C[k][0]])[index]) for index in range(n+1)]"
   ]
  },
  {
   "cell_type": "code",
   "execution_count": 132,
   "metadata": {
    "scrolled": true
   },
   "outputs": [
    {
     "name": "stdout",
     "output_type": "stream",
     "text": [
      "[164, 104, 44, 176, 72] 192\n",
      "10\n",
      "message clair : 0\n"
     ]
    }
   ],
   "source": [
    "while(1) :\n",
    "    m = randint(0,p-1)\n",
    "    c = TLWEncrypt(p, q, n, s, sigma, m)\n",
    "    trux = bootstrapping(p,q,B,l,n,k,N,c,bs,ks)\n",
    "    if (trux!=\"Fail\") :\n",
    "        print(TLWEDecrypt(p,q,n,s,trux))\n",
    "        print(\"message clair :\",m)\n",
    "        break"
   ]
  },
  {
   "cell_type": "code",
   "execution_count": 46,
   "metadata": {},
   "outputs": [
    {
     "data": {
      "text/plain": [
       "[63, 60, 56, 35, 27, 37]"
      ]
     },
     "execution_count": 46,
     "metadata": {},
     "output_type": "execute_result"
    }
   ],
   "source": [
    "trux"
   ]
  },
  {
   "cell_type": "code",
   "execution_count": 48,
   "metadata": {},
   "outputs": [
    {
     "data": {
      "text/plain": [
       "4"
      ]
     },
     "execution_count": 48,
     "metadata": {},
     "output_type": "execute_result"
    }
   ],
   "source": [
    "m"
   ]
  },
  {
   "cell_type": "code",
   "execution_count": 33,
   "metadata": {},
   "outputs": [
    {
     "name": "stdout",
     "output_type": "stream",
     "text": [
      "Message :  3\n",
      "No need for bootstrapping\n",
      "Message :  10\n",
      "No need for bootstrapping\n",
      "Message :  4\n",
      "Need for bootstrapping\n",
      "[204, 204, 48, 32, 136] 244\n",
      "3\n",
      "Message :  5\n",
      "Need for bootstrapping\n",
      "[156, 228, 88, 116, 148] 72\n"
     ]
    },
    {
     "ename": "IndexError",
     "evalue": "list assignment index out of range",
     "output_type": "error",
     "traceback": [
      "\u001b[0;31m---------------------------------------------------------------------------\u001b[0m",
      "\u001b[0;31mIndexError\u001b[0m                                Traceback (most recent call last)",
      "\u001b[0;32m<ipython-input-33-528008e11b89>\u001b[0m in \u001b[0;36m<module>\u001b[0;34m\u001b[0m\n\u001b[1;32m     11\u001b[0m     \u001b[0;32melse\u001b[0m \u001b[0;34m:\u001b[0m\u001b[0;34m\u001b[0m\u001b[0;34m\u001b[0m\u001b[0m\n\u001b[1;32m     12\u001b[0m         \u001b[0mprint\u001b[0m\u001b[0;34m(\u001b[0m\u001b[0;34m\"Need for bootstrapping\"\u001b[0m\u001b[0;34m)\u001b[0m\u001b[0;34m\u001b[0m\u001b[0;34m\u001b[0m\u001b[0m\n\u001b[0;32m---> 13\u001b[0;31m         \u001b[0mc_refresh\u001b[0m \u001b[0;34m=\u001b[0m \u001b[0mbootstrapping\u001b[0m\u001b[0;34m(\u001b[0m\u001b[0mp\u001b[0m\u001b[0;34m,\u001b[0m\u001b[0mq\u001b[0m\u001b[0;34m,\u001b[0m\u001b[0mB\u001b[0m\u001b[0;34m,\u001b[0m\u001b[0ml\u001b[0m\u001b[0;34m,\u001b[0m\u001b[0mn\u001b[0m\u001b[0;34m,\u001b[0m\u001b[0mk\u001b[0m\u001b[0;34m,\u001b[0m\u001b[0mN\u001b[0m\u001b[0;34m,\u001b[0m\u001b[0mc\u001b[0m\u001b[0;34m,\u001b[0m\u001b[0mbs\u001b[0m\u001b[0;34m,\u001b[0m\u001b[0mks\u001b[0m\u001b[0;34m)\u001b[0m\u001b[0;34m\u001b[0m\u001b[0;34m\u001b[0m\u001b[0m\n\u001b[0m\u001b[1;32m     14\u001b[0m         \u001b[0mmmaybe\u001b[0m \u001b[0;34m=\u001b[0m \u001b[0mTLWEDecrypt\u001b[0m\u001b[0;34m(\u001b[0m\u001b[0mp\u001b[0m\u001b[0;34m,\u001b[0m\u001b[0mq\u001b[0m\u001b[0;34m,\u001b[0m\u001b[0mn\u001b[0m\u001b[0;34m,\u001b[0m\u001b[0ms\u001b[0m\u001b[0;34m,\u001b[0m\u001b[0mc_refresh\u001b[0m\u001b[0;34m)\u001b[0m\u001b[0;34m\u001b[0m\u001b[0;34m\u001b[0m\u001b[0m\n\u001b[1;32m     15\u001b[0m         \u001b[0mprint\u001b[0m\u001b[0;34m(\u001b[0m\u001b[0mmmaybe\u001b[0m\u001b[0;34m)\u001b[0m\u001b[0;34m\u001b[0m\u001b[0;34m\u001b[0m\u001b[0m\n",
      "\u001b[0;32m<ipython-input-31-143c925aec7a>\u001b[0m in \u001b[0;36mbootstrapping\u001b[0;34m(p, q, B, l, n, k, N, c, bs, ks)\u001b[0m\n\u001b[1;32m      8\u001b[0m     \u001b[0mprint\u001b[0m\u001b[0;34m(\u001b[0m\u001b[0ma_tilde\u001b[0m\u001b[0;34m,\u001b[0m\u001b[0mx_tilde\u001b[0m\u001b[0;34m)\u001b[0m\u001b[0;34m\u001b[0m\u001b[0;34m\u001b[0m\u001b[0m\n\u001b[1;32m      9\u001b[0m     \u001b[0mtmp\u001b[0m \u001b[0;34m=\u001b[0m \u001b[0;34m[\u001b[0m\u001b[0mInteger\u001b[0m\u001b[0;34m(\u001b[0m\u001b[0;36m0\u001b[0m\u001b[0;34m)\u001b[0m\u001b[0;34m]\u001b[0m\u001b[0;34m*\u001b[0m\u001b[0;34m(\u001b[0m\u001b[0mN\u001b[0m\u001b[0;34m)\u001b[0m\u001b[0;34m\u001b[0m\u001b[0;34m\u001b[0m\u001b[0m\n\u001b[0;32m---> 10\u001b[0;31m     \u001b[0mtmp\u001b[0m\u001b[0;34m[\u001b[0m\u001b[0;34m-\u001b[0m\u001b[0mx_tilde\u001b[0m \u001b[0;34m%\u001b[0m \u001b[0;34m(\u001b[0m\u001b[0mInteger\u001b[0m\u001b[0;34m(\u001b[0m\u001b[0;36m2\u001b[0m\u001b[0;34m)\u001b[0m\u001b[0;34m*\u001b[0m\u001b[0mN\u001b[0m\u001b[0;34m)\u001b[0m\u001b[0;34m]\u001b[0m \u001b[0;34m=\u001b[0m \u001b[0mInteger\u001b[0m\u001b[0;34m(\u001b[0m\u001b[0;36m1\u001b[0m\u001b[0;34m)\u001b[0m \u001b[0;31m# tmp = X^{-x_tilde}\u001b[0m\u001b[0;34m\u001b[0m\u001b[0;34m\u001b[0m\u001b[0m\n\u001b[0m\u001b[1;32m     11\u001b[0m     \u001b[0mQ\u001b[0m \u001b[0;34m=\u001b[0m \u001b[0;34m[\u001b[0m\u001b[0;34m[\u001b[0m\u001b[0;34m[\u001b[0m\u001b[0mInteger\u001b[0m\u001b[0;34m(\u001b[0m\u001b[0;36m0\u001b[0m\u001b[0;34m)\u001b[0m\u001b[0;34m]\u001b[0m\u001b[0;34m*\u001b[0m\u001b[0mN\u001b[0m \u001b[0;32mfor\u001b[0m \u001b[0mi\u001b[0m \u001b[0;32min\u001b[0m \u001b[0mrange\u001b[0m\u001b[0;34m(\u001b[0m\u001b[0mk\u001b[0m\u001b[0;34m)\u001b[0m\u001b[0;34m]\u001b[0m \u001b[0;34m+\u001b[0m \u001b[0;34m[\u001b[0m\u001b[0mMultPolyExt\u001b[0m\u001b[0;34m(\u001b[0m\u001b[0mq\u001b[0m\u001b[0;34m,\u001b[0m\u001b[0mN\u001b[0m\u001b[0;34m,\u001b[0m\u001b[0mtmp\u001b[0m\u001b[0;34m,\u001b[0m\u001b[0mV\u001b[0m\u001b[0;34m)\u001b[0m\u001b[0;34m]\u001b[0m\u001b[0;34m]\u001b[0m\u001b[0;34m\u001b[0m\u001b[0;34m\u001b[0m\u001b[0m\n\u001b[1;32m     12\u001b[0m     \u001b[0;32mfor\u001b[0m \u001b[0mi\u001b[0m \u001b[0;32min\u001b[0m \u001b[0mrange\u001b[0m\u001b[0;34m(\u001b[0m\u001b[0mInteger\u001b[0m\u001b[0;34m(\u001b[0m\u001b[0;36m1\u001b[0m\u001b[0;34m)\u001b[0m\u001b[0;34m,\u001b[0m\u001b[0mn\u001b[0m\u001b[0;34m+\u001b[0m\u001b[0mInteger\u001b[0m\u001b[0;34m(\u001b[0m\u001b[0;36m1\u001b[0m\u001b[0;34m)\u001b[0m\u001b[0;34m)\u001b[0m\u001b[0;34m:\u001b[0m\u001b[0;34m\u001b[0m\u001b[0;34m\u001b[0m\u001b[0m\n",
      "\u001b[0;31mIndexError\u001b[0m: list assignment index out of range"
     ]
    }
   ],
   "source": [
    "while(1) :\n",
    "    m = randint(0,p-1)\n",
    "    print(\"Message : \",m)\n",
    "    c = TLWEncrypt(p, q, n, s, sigma, m)\n",
    "\n",
    "    K = randint(1,100)\n",
    "    mmaybe = TLWEDecrypt(p, q, n, s, MultCiph(q,n,K,c))\n",
    "\n",
    "    if(mmaybe==MultExtTore(p,K,m)):\n",
    "        print(\"No need for bootstrapping\")\n",
    "    else :\n",
    "        print(\"Need for bootstrapping\")\n",
    "        c_refresh = bootstrapping(p,q,B,l,n,k,N,c,bs,ks)\n",
    "        mmaybe = TLWEDecrypt(p,q,n,s,c_refresh)\n",
    "        print(mmaybe)"
   ]
  },
  {
   "cell_type": "code",
   "execution_count": null,
   "metadata": {},
   "outputs": [],
   "source": []
  }
 ],
 "metadata": {
  "kernelspec": {
   "display_name": "SageMath 9.0",
   "language": "sage",
   "name": "sagemath"
  },
  "language_info": {
   "codemirror_mode": {
    "name": "ipython",
    "version": 3
   },
   "file_extension": ".py",
   "mimetype": "text/x-python",
   "name": "python",
   "nbconvert_exporter": "python",
   "pygments_lexer": "ipython3",
   "version": "3.8.10"
  }
 },
 "nbformat": 4,
 "nbformat_minor": 4
}
