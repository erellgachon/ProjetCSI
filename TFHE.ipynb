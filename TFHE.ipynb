{
 "cells": [
  {
   "cell_type": "code",
   "execution_count": 1,
   "metadata": {},
   "outputs": [],
   "source": [
    "#lol y'a pas de module pour le torus on est dans la merde"
   ]
  },
  {
   "cell_type": "code",
   "execution_count": 5,
   "metadata": {},
   "outputs": [],
   "source": [
    "# si k E Tp , il existe un entier r E [0;p] tq k = r/p\n",
    "# on peut donc considérer k comme (r,p) ou juste comme r jsp"
   ]
  },
  {
   "cell_type": "code",
   "execution_count": 6,
   "metadata": {},
   "outputs": [],
   "source": [
    "def AddInTore(p,a,b) :\n",
    "    return (a+b)%p"
   ]
  },
  {
   "cell_type": "code",
   "execution_count": 18,
   "metadata": {},
   "outputs": [],
   "source": [
    "def MultExtTore(p,n,x):\n",
    "    if(n>=0):\n",
    "        cpt = 0\n",
    "        for i in range(n):\n",
    "            cpt = AddInTore(p,cpt,x)\n",
    "        return cpt\n",
    "    return MultExtTore(p,-n,-x)"
   ]
  },
  {
   "cell_type": "code",
   "execution_count": 135,
   "metadata": {},
   "outputs": [],
   "source": [
    "def TLWEncrypt(p,q,n,s,sigma,m):\n",
    "    a=[]\n",
    "    for i in range(n):\n",
    "        a.append(randint(0,q-1))\n",
    "    e = RealDistribution(\"gaussian\",sigma).get_random_element()\n",
    "    e = round(q*e)\n",
    "    while(abs(e/q)>=1/(2*p)):\n",
    "        e = RealDistribution(\"gaussian\",sigma).get_random_element()\n",
    "        e = round(q*e)\n",
    "    #print(\"e= \",e)\n",
    "    c = AddInTore(q,m*q/p,e)\n",
    "    for i in range(n):\n",
    "        c = AddInTore(q,c,MultExtTore(q,s[i],a[i]))\n",
    "    return a+[c]"
   ]
  },
  {
   "cell_type": "code",
   "execution_count": 136,
   "metadata": {},
   "outputs": [],
   "source": [
    "def TLWEDecrypt(p,q,n,s,c):\n",
    "    a = c[:-1]\n",
    "    m = c[-1]\n",
    "    for i in range(n):\n",
    "        m = AddInTore(q,m,MultExtTore(q,-s[i],a[i]))\n",
    "    #print(m/q)\n",
    "    return round(m*p/q)%p"
   ]
  },
  {
   "cell_type": "code",
   "execution_count": 141,
   "metadata": {},
   "outputs": [
    {
     "name": "stdout",
     "output_type": "stream",
     "text": [
      "c = [23, 31, 3, 2, 16, 10]\n",
      "m = 10\n"
     ]
    }
   ],
   "source": [
    "p = 16\n",
    "q = 64\n",
    "n = 5\n",
    "s = [0,1,1,0,0]\n",
    "sigma = 0.001\n",
    "\n",
    "m = 10\n",
    "\n",
    "c = TLWEncrypt(p, q, n, s, sigma, m)\n",
    "print(\"c =\",c)\n",
    "\n",
    "mmaybe = TLWEDecrypt(p, q, n, s, c)\n",
    "print(\"m =\",mmaybe)"
   ]
  },
  {
   "cell_type": "code",
   "execution_count": 168,
   "metadata": {},
   "outputs": [
    {
     "name": "stdout",
     "output_type": "stream",
     "text": [
      "10000\n"
     ]
    }
   ],
   "source": [
    "p = 2\n",
    "q = 2**32\n",
    "n = 1000\n",
    "s = [randint(0,1) for i in range(n)]\n",
    "sigma = 2**(-7)\n",
    "\n",
    "cpt = 0\n",
    "for i in range(10000):\n",
    "    \n",
    "    m = randint(0,p-1)\n",
    "\n",
    "\n",
    "    c = TLWEncrypt(p, q, n, s, sigma, m)\n",
    "\n",
    "    mmaybe = TLWEDecrypt(p, q, n, s, c)\n",
    "    if(m==mmaybe):\n",
    "        cpt = cpt +1\n",
    "print(cpt)        "
   ]
  }
 ],
 "metadata": {
  "kernelspec": {
   "display_name": "SageMath 9.5",
   "language": "sage",
   "name": "sagemath"
  },
  "language_info": {
   "codemirror_mode": {
    "name": "ipython",
    "version": 3
   },
   "file_extension": ".py",
   "mimetype": "text/x-python",
   "name": "python",
   "nbconvert_exporter": "python",
   "pygments_lexer": "ipython3",
   "version": "3.10.6"
  }
 },
 "nbformat": 4,
 "nbformat_minor": 4
}
