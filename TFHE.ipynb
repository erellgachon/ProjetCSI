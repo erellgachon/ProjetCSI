{
 "cells": [
  {
   "cell_type": "code",
   "execution_count": 56,
   "metadata": {},
   "outputs": [],
   "source": [
    "#lol y'a pas de module pour le torus on est dans la merde"
   ]
  },
  {
   "cell_type": "code",
   "execution_count": 57,
   "metadata": {},
   "outputs": [],
   "source": [
    "# si k E Tp , il existe un entier r E [0;p] tq k = r/p\n",
    "# on peut donc considérer k comme (r,p) ou juste comme r jsp"
   ]
  },
  {
   "cell_type": "code",
   "execution_count": 58,
   "metadata": {},
   "outputs": [],
   "source": [
    "def AddInTore(p,a,b) :\n",
    "    return (a+b)%p"
   ]
  },
  {
   "cell_type": "code",
   "execution_count": 59,
   "metadata": {},
   "outputs": [],
   "source": [
    "def MultExtTore(p,n,x):\n",
    "    if(n>=0):\n",
    "        cpt = 0\n",
    "        for i in range(n):\n",
    "            cpt = AddInTore(p,cpt,x)\n",
    "        return cpt\n",
    "    return MultExtTore(p,-n,-x)"
   ]
  },
  {
   "cell_type": "code",
   "execution_count": 151,
   "metadata": {},
   "outputs": [],
   "source": [
    "def TLWEncrypt(p,q,n,s,sigma,m):\n",
    "    a=[]\n",
    "    for i in range(n):\n",
    "        a.append(randint(0,q-1))\n",
    "    e = RealDistribution(\"gaussian\",sigma).get_random_element()\n",
    "    e = round(q*e)\n",
    "    while(abs(e/q)>=1/(2*p)):\n",
    "        e = RealDistribution(\"gaussian\",sigma).get_random_element()\n",
    "        e = round(q*e)\n",
    "    #print(\"e= \",e)\n",
    "    c = AddInTore(q,m*q/p,e)\n",
    "    for i in range(n):\n",
    "        c = AddInTore(q,c,MultExtTore(q,s[i],a[i]))\n",
    "    return a+[c]"
   ]
  },
  {
   "cell_type": "code",
   "execution_count": 61,
   "metadata": {},
   "outputs": [],
   "source": [
    "def TLWEDecrypt(p,q,n,s,c):\n",
    "    a = c[:-1]\n",
    "    m = c[-1]\n",
    "    for i in range(n):\n",
    "        m = AddInTore(q,m,MultExtTore(q,-s[i],a[i]))\n",
    "    #print(m/q)\n",
    "    return round(m*p/q)%p"
   ]
  },
  {
   "cell_type": "code",
   "execution_count": 62,
   "metadata": {},
   "outputs": [
    {
     "name": "stdout",
     "output_type": "stream",
     "text": [
      "c = [42, 11, 47, 13, 13, 34]\n",
      "m = 10\n"
     ]
    }
   ],
   "source": [
    "p = 16\n",
    "q = 64\n",
    "n = 5\n",
    "s = [0,1,1,0,0]\n",
    "sigma = 0.001\n",
    "\n",
    "m = 10\n",
    "\n",
    "c = TLWEncrypt(p, q, n, s, sigma, m)\n",
    "print(\"c =\",c)\n",
    "\n",
    "mmaybe = TLWEDecrypt(p, q, n, s, c)\n",
    "print(\"m =\",mmaybe)"
   ]
  },
  {
   "cell_type": "code",
   "execution_count": 63,
   "metadata": {},
   "outputs": [
    {
     "name": "stdout",
     "output_type": "stream",
     "text": [
      "10000\n"
     ]
    }
   ],
   "source": [
    "p = 2\n",
    "q = 2**32\n",
    "n = 1000\n",
    "s = [randint(0,1) for i in range(n)]\n",
    "sigma = 2**(-7)\n",
    "\n",
    "cpt = 0\n",
    "for i in range(10000):\n",
    "    \n",
    "    m = randint(0,p-1)\n",
    "\n",
    "\n",
    "    c = TLWEncrypt(p, q, n, s, sigma, m)\n",
    "\n",
    "    mmaybe = TLWEDecrypt(p, q, n, s, c)\n",
    "    if(m==mmaybe):\n",
    "        cpt = cpt +1\n",
    "print(cpt)        "
   ]
  },
  {
   "cell_type": "code",
   "execution_count": 64,
   "metadata": {},
   "outputs": [],
   "source": [
    "def AddCiph(q,n,c1,c2):\n",
    "    return [AddInTore(q,c1[i],c2[i]) for i in range(n+1)]"
   ]
  },
  {
   "cell_type": "code",
   "execution_count": 73,
   "metadata": {},
   "outputs": [
    {
     "name": "stdout",
     "output_type": "stream",
     "text": [
      "752\n",
      "248\n",
      "True\n"
     ]
    }
   ],
   "source": [
    "p = 2**9\n",
    "q = 2**16\n",
    "n = 1000\n",
    "s = [randint(0,1) for i in range(n)]\n",
    "sigma = 2**(-7)\n",
    "\n",
    "cpt1 = 0\n",
    "cpt2 = 0\n",
    "for i in range(1000):\n",
    "    \n",
    "    m1 = randint(0,p-1)\n",
    "    m2 = randint(0,p-1)\n",
    "\n",
    "    c1,e1 = TLWEncrypt(p, q, n, s, sigma, m1)\n",
    "    c2,e2 = TLWEncrypt(p, q, n, s, sigma, m2)\n",
    "\n",
    "    m = TLWEDecrypt(p, q, n, s, AddCiph(q,n,c1,c2))\n",
    "    if(m==AddInTore(p,m1,m2)):\n",
    "        cpt1 = cpt1 +1\n",
    "    elif(abs((e1+e2)/q)>=1/(2*p)):\n",
    "        cpt2 = cpt2 + 1\n",
    "print(cpt1)\n",
    "print(cpt2)\n",
    "print(cpt1+cpt2 ==1000)"
   ]
  },
  {
   "cell_type": "code",
   "execution_count": 26,
   "metadata": {},
   "outputs": [],
   "source": [
    "def MultCiph(q,n,K,c):\n",
    "    return [MultExtTore(q,K,c[i]) for i in range(n+1)]"
   ]
  },
  {
   "cell_type": "code",
   "execution_count": 76,
   "metadata": {},
   "outputs": [
    {
     "name": "stdout",
     "output_type": "stream",
     "text": [
      "648\n",
      "352\n",
      "True\n"
     ]
    }
   ],
   "source": [
    "p = 2\n",
    "q = 2**32\n",
    "n = 1000\n",
    "s = [randint(0,1) for i in range(n)]\n",
    "sigma = 2**(-7)\n",
    "\n",
    "cpt1 = 0\n",
    "cpt2 = 0\n",
    "for i in range(1000):\n",
    "    \n",
    "    m = randint(0,p-1)\n",
    "\n",
    "    c,e = TLWEncrypt(p, q, n, s, sigma, m)\n",
    "    \n",
    "    K = randint(1,100)\n",
    "    mmaybe = TLWEDecrypt(p, q, n, s, MultCiph(q,n,K,c))\n",
    "    \n",
    "    if(mmaybe==MultExtTore(p,K,m)):\n",
    "        cpt1 +=1\n",
    "    elif(abs((K*e)/q)>=1/(2*p)):\n",
    "        cpt2 +=1\n",
    "print(cpt1)\n",
    "print(cpt2)\n",
    "print(cpt1+cpt2 == 1000)"
   ]
  },
  {
   "cell_type": "code",
   "execution_count": 122,
   "metadata": {},
   "outputs": [],
   "source": [
    "def TrueGadgetMatrix(q,B,l,n):\n",
    "    G = [[0 for i in range(n+1)] for j in range((n+1)*l)]\n",
    "    for i in range(n+1):\n",
    "        for j in range(0,l):\n",
    "            G[j+l*i][i] = 1/(B^(j+1))\n",
    "    return G\n",
    "#G is the real gadget matrix"
   ]
  },
  {
   "cell_type": "code",
   "execution_count": 119,
   "metadata": {},
   "outputs": [],
   "source": [
    "def UsedGadgetMatrix(q,B,l,n):\n",
    "    G = [[0 for i in range(n+1)] for j in range((n+1)*l)]\n",
    "    for i in range(n+1):\n",
    "        for j in range(0,l):\n",
    "            G[j+l*i][i] = q/(B^(j+1))\n",
    "    return G\n",
    "#G is the gadhet matrix of the numerator of the real gadget matrix with q for denominator"
   ]
  },
  {
   "cell_type": "code",
   "execution_count": 144,
   "metadata": {},
   "outputs": [],
   "source": [
    "def AddInMatr(q,M,L):\n",
    "    return [[AddInTore(q,M[i][j],L[i][j]) for j in range(len(M[0]))] for i in range(len(M))]"
   ]
  },
  {
   "cell_type": "code",
   "execution_count": 145,
   "metadata": {},
   "outputs": [],
   "source": [
    "#Works with M a matrix with coeff in our Tq\n",
    "def MultExtMatr(q,K,M):\n",
    "    return [[MultExtTore(q,K,M[i][j]) for j in range(len(M[0]))] for i in range(len(M))] "
   ]
  },
  {
   "cell_type": "code",
   "execution_count": 158,
   "metadata": {},
   "outputs": [],
   "source": [
    "def TGSWEncrypt(q,B,l,n,m,s):\n",
    "    sigma = 0.001\n",
    "    Z = [TLWEncrypt(B**l,q,n,s,sigma,0) for i in range(n+1)]\n",
    "    #print(Z)\n",
    "    return AddInMatr(q,Z,MultExtMatr(q,m,UsedGadgetMatrix(q,B,l,n))),MultExtMatr(q,m,UsedGadgetMatrix(q,B,l,n))"
   ]
  },
  {
   "cell_type": "code",
   "execution_count": 161,
   "metadata": {},
   "outputs": [],
   "source": [
    "a,b = TGSWEncrypt(64,2,3,6,7,[0,1,1,1,0,1])"
   ]
  },
  {
   "cell_type": "code",
   "execution_count": 160,
   "metadata": {},
   "outputs": [
    {
     "data": {
      "text/plain": [
       "[[32, 0, 0, 0, 0, 0, 0],\n",
       " [48, 0, 0, 0, 0, 0, 0],\n",
       " [56, 0, 0, 0, 0, 0, 0],\n",
       " [0, 32, 0, 0, 0, 0, 0],\n",
       " [0, 48, 0, 0, 0, 0, 0],\n",
       " [0, 56, 0, 0, 0, 0, 0],\n",
       " [0, 0, 32, 0, 0, 0, 0],\n",
       " [0, 0, 48, 0, 0, 0, 0],\n",
       " [0, 0, 56, 0, 0, 0, 0],\n",
       " [0, 0, 0, 32, 0, 0, 0],\n",
       " [0, 0, 0, 48, 0, 0, 0],\n",
       " [0, 0, 0, 56, 0, 0, 0],\n",
       " [0, 0, 0, 0, 32, 0, 0],\n",
       " [0, 0, 0, 0, 48, 0, 0],\n",
       " [0, 0, 0, 0, 56, 0, 0],\n",
       " [0, 0, 0, 0, 0, 32, 0],\n",
       " [0, 0, 0, 0, 0, 48, 0],\n",
       " [0, 0, 0, 0, 0, 56, 0],\n",
       " [0, 0, 0, 0, 0, 0, 32],\n",
       " [0, 0, 0, 0, 0, 0, 48],\n",
       " [0, 0, 0, 0, 0, 0, 56]]"
      ]
     },
     "execution_count": 160,
     "metadata": {},
     "output_type": "execute_result"
    }
   ],
   "source": [
    "b"
   ]
  },
  {
   "cell_type": "code",
   "execution_count": 162,
   "metadata": {},
   "outputs": [
    {
     "data": {
      "text/plain": [
       "[[32, 0, 0, 0, 0, 0, 0],\n",
       " [48, 0, 0, 0, 0, 0, 0],\n",
       " [56, 0, 0, 0, 0, 0, 0],\n",
       " [0, 32, 0, 0, 0, 0, 0],\n",
       " [0, 48, 0, 0, 0, 0, 0],\n",
       " [0, 56, 0, 0, 0, 0, 0],\n",
       " [0, 0, 32, 0, 0, 0, 0],\n",
       " [0, 0, 48, 0, 0, 0, 0],\n",
       " [0, 0, 56, 0, 0, 0, 0],\n",
       " [0, 0, 0, 32, 0, 0, 0],\n",
       " [0, 0, 0, 48, 0, 0, 0],\n",
       " [0, 0, 0, 56, 0, 0, 0],\n",
       " [0, 0, 0, 0, 32, 0, 0],\n",
       " [0, 0, 0, 0, 48, 0, 0],\n",
       " [0, 0, 0, 0, 56, 0, 0],\n",
       " [0, 0, 0, 0, 0, 32, 0],\n",
       " [0, 0, 0, 0, 0, 48, 0],\n",
       " [0, 0, 0, 0, 0, 56, 0],\n",
       " [0, 0, 0, 0, 0, 0, 32],\n",
       " [0, 0, 0, 0, 0, 0, 48],\n",
       " [0, 0, 0, 0, 0, 0, 56]]"
      ]
     },
     "execution_count": 162,
     "metadata": {},
     "output_type": "execute_result"
    }
   ],
   "source": [
    "b"
   ]
  },
  {
   "cell_type": "code",
   "execution_count": null,
   "metadata": {},
   "outputs": [],
   "source": []
  }
 ],
 "metadata": {
  "kernelspec": {
   "display_name": "SageMath 9.5",
   "language": "sage",
   "name": "sagemath"
  },
  "language_info": {
   "codemirror_mode": {
    "name": "ipython",
    "version": 3
   },
   "file_extension": ".py",
   "mimetype": "text/x-python",
   "name": "python",
   "nbconvert_exporter": "python",
   "pygments_lexer": "ipython3",
   "version": "3.10.6"
  }
 },
 "nbformat": 4,
 "nbformat_minor": 4
}
