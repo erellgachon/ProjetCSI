{
 "cells": [
  {
   "cell_type": "code",
   "execution_count": 1,
   "metadata": {},
   "outputs": [],
   "source": [
    "#lol y'a pas de module pour le torus on est dans la merde"
   ]
  },
  {
   "cell_type": "code",
   "execution_count": 2,
   "metadata": {},
   "outputs": [],
   "source": [
    "# si k E Tp , il existe un entier r E [0;p] tq k = r/p\n",
    "# on peut donc considérer k comme (r,p) ou juste comme r jsp"
   ]
  },
  {
   "cell_type": "code",
   "execution_count": 3,
   "metadata": {},
   "outputs": [],
   "source": [
    "def AddInTore(p,a,b) :\n",
    "    return (a+b)%p"
   ]
  },
  {
   "cell_type": "code",
   "execution_count": 4,
   "metadata": {},
   "outputs": [],
   "source": [
    "# x in TP\n",
    "# n in Z\n",
    "def MultExtTore(p,n,x):\n",
    "    if(n>=0):\n",
    "        cpt = 0\n",
    "        for i in range(n):\n",
    "            cpt = AddInTore(p,cpt,x)\n",
    "        return cpt\n",
    "    return MultExtTore(p,-n,-x)"
   ]
  },
  {
   "cell_type": "code",
   "execution_count": 5,
   "metadata": {},
   "outputs": [],
   "source": [
    "def TLWEncrypt(p,q,n,s,sigma,m):\n",
    "    a=[]\n",
    "    for i in range(n):\n",
    "        a.append(randint(0,q-1))\n",
    "    e = RealDistribution(\"gaussian\",sigma).get_random_element()\n",
    "    e = round(q*e)\n",
    "    while(abs(e/q)>=1/(2*p)):\n",
    "        e = RealDistribution(\"gaussian\",sigma).get_random_element()\n",
    "        e = round(q*e)\n",
    "    #print(\"e= \",e)\n",
    "    c = AddInTore(q,m*q/p,e)\n",
    "    for i in range(n):\n",
    "        c = AddInTore(q,c,MultExtTore(q,s[i],a[i]))\n",
    "    return a+[c]"
   ]
  },
  {
   "cell_type": "code",
   "execution_count": 6,
   "metadata": {},
   "outputs": [],
   "source": [
    "def TLWEDecrypt(p,q,n,s,c):\n",
    "    a = c[:-1]\n",
    "    m = c[-1]\n",
    "    for i in range(n):\n",
    "        m = AddInTore(q,m,MultExtTore(q,-s[i],a[i]))\n",
    "    return round(m*p/q)%p"
   ]
  },
  {
   "cell_type": "code",
   "execution_count": 7,
   "metadata": {},
   "outputs": [
    {
     "name": "stdout",
     "output_type": "stream",
     "text": [
      "c = [30, 51, 6, 57, 29, 33]\n",
      "m = 10\n"
     ]
    }
   ],
   "source": [
    "p = 16\n",
    "q = 64\n",
    "n = 5\n",
    "s = [0,1,1,0,0]\n",
    "sigma = 0.001\n",
    "\n",
    "m = 10\n",
    "\n",
    "c = TLWEncrypt(p, q, n, s, sigma, m)\n",
    "print(\"c =\",c)\n",
    "\n",
    "mmaybe = TLWEDecrypt(p, q, n, s, c)\n",
    "print(\"m =\",mmaybe)"
   ]
  },
  {
   "cell_type": "code",
   "execution_count": 8,
   "metadata": {},
   "outputs": [
    {
     "name": "stdout",
     "output_type": "stream",
     "text": [
      "10000\n"
     ]
    }
   ],
   "source": [
    "p = 2\n",
    "q = 2**32\n",
    "n = 1000\n",
    "s = [randint(0,1) for i in range(n)]\n",
    "sigma = 2**(-7)\n",
    "\n",
    "cpt = 0\n",
    "for i in range(10000):\n",
    "    \n",
    "    m = randint(0,p-1)\n",
    "\n",
    "\n",
    "    c = TLWEncrypt(p, q, n, s, sigma, m)\n",
    "\n",
    "    mmaybe = TLWEDecrypt(p, q, n, s, c)\n",
    "    if(m==mmaybe):\n",
    "        cpt = cpt +1\n",
    "print(cpt)        "
   ]
  },
  {
   "cell_type": "code",
   "execution_count": 9,
   "metadata": {},
   "outputs": [],
   "source": [
    "def AddCiph(q,n,c1,c2):\n",
    "    return [AddInTore(q,c1[i],c2[i]) for i in range(n+1)]"
   ]
  },
  {
   "cell_type": "code",
   "execution_count": 10,
   "metadata": {},
   "outputs": [
    {
     "ename": "ValueError",
     "evalue": "too many values to unpack (expected 2)",
     "output_type": "error",
     "traceback": [
      "\u001b[0;31m---------------------------------------------------------------------------\u001b[0m",
      "\u001b[0;31mValueError\u001b[0m                                Traceback (most recent call last)",
      "\u001b[0;32m<ipython-input-10-f0e9f9a208dc>\u001b[0m in \u001b[0;36m<module>\u001b[0;34m\u001b[0m\n\u001b[1;32m     12\u001b[0m     \u001b[0mm2\u001b[0m \u001b[0;34m=\u001b[0m \u001b[0mrandint\u001b[0m\u001b[0;34m(\u001b[0m\u001b[0mInteger\u001b[0m\u001b[0;34m(\u001b[0m\u001b[0;36m0\u001b[0m\u001b[0;34m)\u001b[0m\u001b[0;34m,\u001b[0m\u001b[0mp\u001b[0m\u001b[0;34m-\u001b[0m\u001b[0mInteger\u001b[0m\u001b[0;34m(\u001b[0m\u001b[0;36m1\u001b[0m\u001b[0;34m)\u001b[0m\u001b[0;34m)\u001b[0m\u001b[0;34m\u001b[0m\u001b[0;34m\u001b[0m\u001b[0m\n\u001b[1;32m     13\u001b[0m \u001b[0;34m\u001b[0m\u001b[0m\n\u001b[0;32m---> 14\u001b[0;31m     \u001b[0mc1\u001b[0m\u001b[0;34m,\u001b[0m\u001b[0me1\u001b[0m \u001b[0;34m=\u001b[0m \u001b[0mTLWEncrypt\u001b[0m\u001b[0;34m(\u001b[0m\u001b[0mp\u001b[0m\u001b[0;34m,\u001b[0m \u001b[0mq\u001b[0m\u001b[0;34m,\u001b[0m \u001b[0mn\u001b[0m\u001b[0;34m,\u001b[0m \u001b[0ms\u001b[0m\u001b[0;34m,\u001b[0m \u001b[0msigma\u001b[0m\u001b[0;34m,\u001b[0m \u001b[0mm1\u001b[0m\u001b[0;34m)\u001b[0m\u001b[0;34m\u001b[0m\u001b[0;34m\u001b[0m\u001b[0m\n\u001b[0m\u001b[1;32m     15\u001b[0m     \u001b[0mc2\u001b[0m\u001b[0;34m,\u001b[0m\u001b[0me2\u001b[0m \u001b[0;34m=\u001b[0m \u001b[0mTLWEncrypt\u001b[0m\u001b[0;34m(\u001b[0m\u001b[0mp\u001b[0m\u001b[0;34m,\u001b[0m \u001b[0mq\u001b[0m\u001b[0;34m,\u001b[0m \u001b[0mn\u001b[0m\u001b[0;34m,\u001b[0m \u001b[0ms\u001b[0m\u001b[0;34m,\u001b[0m \u001b[0msigma\u001b[0m\u001b[0;34m,\u001b[0m \u001b[0mm2\u001b[0m\u001b[0;34m)\u001b[0m\u001b[0;34m\u001b[0m\u001b[0;34m\u001b[0m\u001b[0m\n\u001b[1;32m     16\u001b[0m \u001b[0;34m\u001b[0m\u001b[0m\n",
      "\u001b[0;31mValueError\u001b[0m: too many values to unpack (expected 2)"
     ]
    }
   ],
   "source": [
    "p = 2**9\n",
    "q = 2**16\n",
    "n = 1000\n",
    "s = [randint(0,1) for i in range(n)]\n",
    "sigma = 2**(-7)\n",
    "\n",
    "cpt1 = 0\n",
    "cpt2 = 0\n",
    "for i in range(1000):\n",
    "    \n",
    "    m1 = randint(0,p-1)\n",
    "    m2 = randint(0,p-1)\n",
    "\n",
    "    c1,e1 = TLWEncrypt(p, q, n, s, sigma, m1)\n",
    "    c2,e2 = TLWEncrypt(p, q, n, s, sigma, m2)\n",
    "\n",
    "    m = TLWEDecrypt(p, q, n, s, AddCiph(q,n,c1,c2))\n",
    "    if(m==AddInTore(p,m1,m2)):\n",
    "        cpt1 = cpt1 +1\n",
    "    elif(abs((e1+e2)/q)>=1/(2*p)):\n",
    "        cpt2 = cpt2 + 1\n",
    "print(cpt1)\n",
    "print(cpt2)\n",
    "print(cpt1+cpt2 ==1000)"
   ]
  },
  {
   "cell_type": "code",
   "execution_count": null,
   "metadata": {},
   "outputs": [],
   "source": [
    "def MultCiph(q,n,K,c):\n",
    "    return [MultExtTore(q,K,c[i]) for i in range(n+1)]"
   ]
  },
  {
   "cell_type": "code",
   "execution_count": null,
   "metadata": {},
   "outputs": [],
   "source": [
    "p = 2\n",
    "q = 2**32\n",
    "n = 1000\n",
    "s = [randint(0,1) for i in range(n)]\n",
    "sigma = 2**(-7)\n",
    "\n",
    "cpt1 = 0\n",
    "cpt2 = 0\n",
    "for i in range(1000):\n",
    "    \n",
    "    m = randint(0,p-1)\n",
    "\n",
    "    c,e = TLWEncrypt(p, q, n, s, sigma, m)\n",
    "    \n",
    "    K = randint(1,100)\n",
    "    mmaybe = TLWEDecrypt(p, q, n, s, MultCiph(q,n,K,c))\n",
    "    \n",
    "    if(mmaybe==MultExtTore(p,K,m)):\n",
    "        cpt1 +=1\n",
    "    elif(abs((K*e)/q)>=1/(2*p)):\n",
    "        cpt2 +=1\n",
    "print(cpt1)\n",
    "print(cpt2)\n",
    "print(cpt1+cpt2 == 1000)"
   ]
  },
  {
   "cell_type": "code",
   "execution_count": null,
   "metadata": {},
   "outputs": [],
   "source": [
    "def TrueGadgetMatrix(q,B,l,n):\n",
    "    G = [[0 for i in range(n+1)] for j in range((n+1)*l)]\n",
    "    for i in range(n+1):\n",
    "        for j in range(0,l):\n",
    "            G[j+l*i][i] = 1/(B^(j+1))\n",
    "    return G\n",
    "#G is the real gadget matrix"
   ]
  },
  {
   "cell_type": "code",
   "execution_count": null,
   "metadata": {},
   "outputs": [],
   "source": [
    "def UsedGadgetMatrix(q,B,l,n):\n",
    "    G = [[0 for i in range(n+1)] for j in range((n+1)*l)]\n",
    "    for i in range(n+1):\n",
    "        for j in range(0,l):\n",
    "            G[j+l*i][i] = q/(B^(j+1))\n",
    "    return G\n",
    "#G is the gadhet matrix of the numerator of the real gadget matrix with q for denominator"
   ]
  },
  {
   "cell_type": "code",
   "execution_count": null,
   "metadata": {},
   "outputs": [],
   "source": [
    "def AddInMatr(q,M1,M2):\n",
    "    return [[AddInTore(q,M1[i][j],M2[i][j]) for j in range(len(M1[0]))] for i in range(len(M1))]"
   ]
  },
  {
   "cell_type": "code",
   "execution_count": null,
   "metadata": {},
   "outputs": [],
   "source": [
    "#Works with M a matrix with coeff in our Tq\n",
    "def MultExtMatr(q,K,M):\n",
    "    return [[MultExtTore(q,K,M[i][j]) for j in range(len(M[0]))] for i in range(len(M))] "
   ]
  },
  {
   "cell_type": "code",
   "execution_count": null,
   "metadata": {},
   "outputs": [],
   "source": [
    "#M1 matrice entière et M2 matrice dans Tq\n",
    "def MultInMatr(q,M1,M2) :\n",
    "    M = [[0 for _ in range(len(M2[0]))] for _ in range(len(M1))]\n",
    "    for i in range(len(M1)) :\n",
    "        for j in range(len(M2[0])) :\n",
    "            for k in range(len(M2)) :\n",
    "                M[i][j] = AddInTore(q,M[i][j],MultExtTore(q,M1[i][k],M2[k][j]))\n",
    "    return M"
   ]
  },
  {
   "cell_type": "code",
   "execution_count": null,
   "metadata": {},
   "outputs": [],
   "source": [
    "def TGSWEncrypt(q,B,l,n,m,s):\n",
    "    sigma = 0.001\n",
    "    Z = [TLWEncrypt(B**l,q,n,s,sigma,0) for i in range(n+1)]\n",
    "    #print(Z)\n",
    "    return AddInMatr(q,Z,MultExtMatr(q,m,UsedGadgetMatrix(q,B,l,n)))"
   ]
  },
  {
   "cell_type": "code",
   "execution_count": null,
   "metadata": {},
   "outputs": [],
   "source": [
    "def InvGVect(q,B,l,n,v):\n",
    "    for i in range(n+1) :\n",
    "        if v[i]> q/2 :\n",
    "            v[i] = v[i]-q\n",
    "    vbar = [round(B**l*v[i]/q) for i in range(n+1)]\n",
    "    u=[]\n",
    "    for i in range(n+1) :\n",
    "        tmp = (vbar[i]).digits(B)\n",
    "        while (len(tmp)!=l+1) :\n",
    "            tmp.append(0)\n",
    "        for j in range(len(tmp)-1) :\n",
    "            if tmp[j]>= ceil(B/2) :\n",
    "                tmp[j] = tmp[j]-B\n",
    "                tmp[j+1] = tmp[j+1]+1\n",
    "        tmp.reverse()\n",
    "        u = u+(tmp[1:])\n",
    "    return [u]"
   ]
  },
  {
   "cell_type": "code",
   "execution_count": null,
   "metadata": {},
   "outputs": [],
   "source": [
    "def InvGMatr(q,B,l,n,M) :\n",
    "    return [InvGVect(q,B,l,n,M[i]) for i in range(len(M))]"
   ]
  },
  {
   "cell_type": "code",
   "execution_count": null,
   "metadata": {},
   "outputs": [],
   "source": [
    "g = InvG(64,4,3,1,[41,26])\n",
    "G = UsedGadgetMatrix(64,4,3,1)\n",
    "MultInMatr(64,g,G)"
   ]
  },
  {
   "cell_type": "code",
   "execution_count": null,
   "metadata": {},
   "outputs": [],
   "source": [
    "def MultInGSW(q,B,l,n,c1,c2) :\n",
    "    return MultInMatr(q,InvGMatr(q,B,l,n,c1),c2)"
   ]
  },
  {
   "cell_type": "code",
   "execution_count": null,
   "metadata": {},
   "outputs": [],
   "source": [
    "#c1 est TGSW\n",
    "#c2 est TLWE\n",
    "def MultExtCiphLWE(q,B,l,n,c1,c2) :\n",
    "    return MultInMatr(q,InvGVect(q,B,l,n,c2),c1)"
   ]
  },
  {
   "cell_type": "code",
   "execution_count": null,
   "metadata": {},
   "outputs": [],
   "source": [
    "k = 3\n",
    "m = 5\n",
    "q = 64\n",
    "B = 4\n",
    "l = 2\n",
    "p = B**l\n",
    "n = 500\n",
    "sigma = 2**(-10)\n",
    "cpt=0\n",
    "for j in range(1000) :\n",
    "    s = [randint(0,1) for i in range(n)]\n",
    "    cm = TLWEncrypt(p,q,n,s,sigma,m)\n",
    "\n",
    "    ck = TGSWEncrypt(q,B,l,n,m,s)\n",
    "    c = MultExtCiphLWE(q,B,l,n,ck,cm)[0]\n",
    "    if(TLWEDecrypt(p,q,n,s,c)==MultExtTore(p,k,m)) :\n",
    "        cpt+=1\n",
    "print(cpt)\n"
   ]
  },
  {
   "cell_type": "markdown",
   "metadata": {},
   "source": [
    "## TGLWE"
   ]
  },
  {
   "cell_type": "code",
   "execution_count": 35,
   "metadata": {},
   "outputs": [],
   "source": [
    "# p1,p2 defined in Tp[X] / (X^N+1)\n",
    "def AddPolyInTore(q,p1,p2,N) :\n",
    "    p = [0]*N\n",
    "    for i in range(N) :\n",
    "        p[i] = AddInTore(q,p1[i],p2[i])\n",
    "    return p"
   ]
  },
  {
   "cell_type": "code",
   "execution_count": 54,
   "metadata": {},
   "outputs": [],
   "source": [
    "# p1 in TP[X] / X^N+1\n",
    "# p2 in Z[X] / X^N+1\n",
    "def MultPolyExt(q,p1,p2,N) :\n",
    "    P = [0]*2*N\n",
    "    for i in range(N) :\n",
    "        for j in range(N) :\n",
    "            tmp = MultExtTore(q,p2[i],p1[j])\n",
    "            P[i+j] = AddInTore(q,P[i+j],tmp)\n",
    "    for i in range(N) :\n",
    "        P[i] = AddInTore(q,P[i],-P[i+N])\n",
    "    return P[:N]"
   ]
  },
  {
   "cell_type": "code",
   "execution_count": 55,
   "metadata": {},
   "outputs": [],
   "source": [
    "def TGLWEncrypt(p,q,N,k,s,m) :\n",
    "    a = []\n",
    "    for i in range(k) :\n",
    "        a.append([randint(0,q-1) for j in range(N)])\n",
    "    e = [RealDistribution(\"gaussian\",sigma).get_random_element() for i in range(N)]\n",
    "    e = [round(q*e[i]) for i in range(N)]\n",
    "    M = [m[i]*q/p for i in range(N)]\n",
    "    c = AddPolyInTore(q,M,e,N)\n",
    "    for i in range(k):\n",
    "        c = AddPolyInTore(q,c,MultPolyExt(q,s[i],a[i],N),N)\n",
    "    return a+[c]"
   ]
  },
  {
   "cell_type": "code",
   "execution_count": 56,
   "metadata": {},
   "outputs": [
    {
     "data": {
      "text/plain": [
       "[[2, 13, 12, 1], [11, 12, 7, 0], [8, 13, 6, 9], [12, 0, 8, 6]]"
      ]
     },
     "execution_count": 56,
     "metadata": {},
     "output_type": "execute_result"
    }
   ],
   "source": [
    "TGLWEncrypt(4,16,4,3,[[0,1,1,1],[1,0,0,1],[0,0,0,1]],[1,3,3,2])"
   ]
  },
  {
   "cell_type": "code",
   "execution_count": 57,
   "metadata": {},
   "outputs": [
    {
     "data": {
      "text/plain": [
       "[1, 5, 4, 0]"
      ]
     },
     "execution_count": 57,
     "metadata": {},
     "output_type": "execute_result"
    }
   ],
   "source": [
    "N = 4\n",
    "q = 8\n",
    "P1 = [1,0,0,2]\n",
    "P2 = [3,5,0,2]\n",
    "MultPolyExt(q,P1,P2,N)"
   ]
  },
  {
   "cell_type": "code",
   "execution_count": null,
   "metadata": {},
   "outputs": [],
   "source": []
  }
 ],
 "metadata": {
  "kernelspec": {
   "display_name": "SageMath 9.0",
   "language": "sage",
   "name": "sagemath"
  },
  "language_info": {
   "codemirror_mode": {
    "name": "ipython",
    "version": 3
   },
   "file_extension": ".py",
   "mimetype": "text/x-python",
   "name": "python",
   "nbconvert_exporter": "python",
   "pygments_lexer": "ipython3",
   "version": "3.8.10"
  }
 },
 "nbformat": 4,
 "nbformat_minor": 4
}
